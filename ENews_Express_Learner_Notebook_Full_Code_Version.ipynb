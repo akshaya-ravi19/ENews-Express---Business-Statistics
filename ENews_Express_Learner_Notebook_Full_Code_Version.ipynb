{
  "cells": [
    {
      "cell_type": "markdown",
      "metadata": {
        "id": "view-in-github",
        "colab_type": "text"
      },
      "source": [
        "<a href=\"https://colab.research.google.com/github/akshaya-ravi19/ENews-Express---Business-Statistics/blob/main/ENews_Express_Learner_Notebook_Full_Code_Version.ipynb\" target=\"_parent\"><img src=\"https://colab.research.google.com/assets/colab-badge.svg\" alt=\"Open In Colab\"/></a>"
      ]
    },
    {
      "cell_type": "markdown",
      "id": "6yDxo9u0d9Na",
      "metadata": {
        "id": "6yDxo9u0d9Na"
      },
      "source": [
        "# Project Business Statistics: E-news Express\n",
        "\n",
        "**Marks: 60**"
      ]
    },
    {
      "cell_type": "markdown",
      "id": "SrLd-ICEmPSD",
      "metadata": {
        "id": "SrLd-ICEmPSD"
      },
      "source": [
        "## Define Problem Statement and Objectives"
      ]
    },
    {
      "cell_type": "markdown",
      "id": "a6a3d218",
      "metadata": {
        "id": "a6a3d218"
      },
      "source": [
        "## Import all the necessary libraries"
      ]
    },
    {
      "cell_type": "code",
      "execution_count": null,
      "id": "658c5dec",
      "metadata": {
        "id": "658c5dec"
      },
      "outputs": [],
      "source": [
        "import numpy as np\n",
        "import pandas as pd\n",
        "import seaborn as sns\n",
        "import matplotlib.pyplot as plt\n",
        "%matplotlib inline\n",
        "import scipy.stats as stats"
      ]
    },
    {
      "cell_type": "markdown",
      "id": "6970dd99",
      "metadata": {
        "id": "6970dd99"
      },
      "source": [
        "## Reading the Data into a DataFrame"
      ]
    },
    {
      "cell_type": "code",
      "execution_count": null,
      "id": "d3b95640",
      "metadata": {
        "id": "d3b95640"
      },
      "outputs": [],
      "source": [
        "df = pd.read_csv('abtest.csv')"
      ]
    },
    {
      "cell_type": "markdown",
      "id": "9d75cfa2",
      "metadata": {
        "id": "9d75cfa2"
      },
      "source": [
        "## Explore the dataset and extract insights using Exploratory Data Analysis"
      ]
    },
    {
      "cell_type": "markdown",
      "id": "27201534",
      "metadata": {
        "id": "27201534"
      },
      "source": [
        "- Data Overview\n",
        "  - Viewing the first and last few rows of the dataset\n",
        "  - Checking the shape of the dataset\n",
        "  - Getting the statistical summary for the variables\n",
        "- Check for missing values\n",
        "- Check for duplicates"
      ]
    },
    {
      "cell_type": "code",
      "execution_count": null,
      "id": "e1ad11d4",
      "metadata": {
        "id": "e1ad11d4",
        "outputId": "c85a6b48-e814-4d83-86a1-50098aff7e50"
      },
      "outputs": [
        {
          "data": {
            "text/html": [
              "<div>\n",
              "<style scoped>\n",
              "    .dataframe tbody tr th:only-of-type {\n",
              "        vertical-align: middle;\n",
              "    }\n",
              "\n",
              "    .dataframe tbody tr th {\n",
              "        vertical-align: top;\n",
              "    }\n",
              "\n",
              "    .dataframe thead th {\n",
              "        text-align: right;\n",
              "    }\n",
              "</style>\n",
              "<table border=\"1\" class=\"dataframe\">\n",
              "  <thead>\n",
              "    <tr style=\"text-align: right;\">\n",
              "      <th></th>\n",
              "      <th>user_id</th>\n",
              "      <th>group</th>\n",
              "      <th>landing_page</th>\n",
              "      <th>time_spent_on_the_page</th>\n",
              "      <th>converted</th>\n",
              "      <th>language_preferred</th>\n",
              "    </tr>\n",
              "  </thead>\n",
              "  <tbody>\n",
              "    <tr>\n",
              "      <th>0</th>\n",
              "      <td>546592</td>\n",
              "      <td>control</td>\n",
              "      <td>old</td>\n",
              "      <td>3.48</td>\n",
              "      <td>no</td>\n",
              "      <td>Spanish</td>\n",
              "    </tr>\n",
              "    <tr>\n",
              "      <th>1</th>\n",
              "      <td>546468</td>\n",
              "      <td>treatment</td>\n",
              "      <td>new</td>\n",
              "      <td>7.13</td>\n",
              "      <td>yes</td>\n",
              "      <td>English</td>\n",
              "    </tr>\n",
              "    <tr>\n",
              "      <th>2</th>\n",
              "      <td>546462</td>\n",
              "      <td>treatment</td>\n",
              "      <td>new</td>\n",
              "      <td>4.40</td>\n",
              "      <td>no</td>\n",
              "      <td>Spanish</td>\n",
              "    </tr>\n",
              "    <tr>\n",
              "      <th>3</th>\n",
              "      <td>546567</td>\n",
              "      <td>control</td>\n",
              "      <td>old</td>\n",
              "      <td>3.02</td>\n",
              "      <td>no</td>\n",
              "      <td>French</td>\n",
              "    </tr>\n",
              "    <tr>\n",
              "      <th>4</th>\n",
              "      <td>546459</td>\n",
              "      <td>treatment</td>\n",
              "      <td>new</td>\n",
              "      <td>4.75</td>\n",
              "      <td>yes</td>\n",
              "      <td>Spanish</td>\n",
              "    </tr>\n",
              "  </tbody>\n",
              "</table>\n",
              "</div>"
            ],
            "text/plain": [
              "   user_id      group landing_page  time_spent_on_the_page converted  \\\n",
              "0   546592    control          old                    3.48        no   \n",
              "1   546468  treatment          new                    7.13       yes   \n",
              "2   546462  treatment          new                    4.40        no   \n",
              "3   546567    control          old                    3.02        no   \n",
              "4   546459  treatment          new                    4.75       yes   \n",
              "\n",
              "  language_preferred  \n",
              "0            Spanish  \n",
              "1            English  \n",
              "2            Spanish  \n",
              "3             French  \n",
              "4            Spanish  "
            ]
          },
          "execution_count": 3,
          "metadata": {},
          "output_type": "execute_result"
        }
      ],
      "source": [
        "#To view the first five rows of the Dataset\n",
        "df.head()"
      ]
    },
    {
      "cell_type": "code",
      "execution_count": null,
      "id": "6b0d1be2",
      "metadata": {
        "id": "6b0d1be2",
        "outputId": "d04391de-91e2-460a-f03e-c17f33583e11"
      },
      "outputs": [
        {
          "data": {
            "text/html": [
              "<div>\n",
              "<style scoped>\n",
              "    .dataframe tbody tr th:only-of-type {\n",
              "        vertical-align: middle;\n",
              "    }\n",
              "\n",
              "    .dataframe tbody tr th {\n",
              "        vertical-align: top;\n",
              "    }\n",
              "\n",
              "    .dataframe thead th {\n",
              "        text-align: right;\n",
              "    }\n",
              "</style>\n",
              "<table border=\"1\" class=\"dataframe\">\n",
              "  <thead>\n",
              "    <tr style=\"text-align: right;\">\n",
              "      <th></th>\n",
              "      <th>user_id</th>\n",
              "      <th>group</th>\n",
              "      <th>landing_page</th>\n",
              "      <th>time_spent_on_the_page</th>\n",
              "      <th>converted</th>\n",
              "      <th>language_preferred</th>\n",
              "    </tr>\n",
              "  </thead>\n",
              "  <tbody>\n",
              "    <tr>\n",
              "      <th>95</th>\n",
              "      <td>546446</td>\n",
              "      <td>treatment</td>\n",
              "      <td>new</td>\n",
              "      <td>5.15</td>\n",
              "      <td>no</td>\n",
              "      <td>Spanish</td>\n",
              "    </tr>\n",
              "    <tr>\n",
              "      <th>96</th>\n",
              "      <td>546544</td>\n",
              "      <td>control</td>\n",
              "      <td>old</td>\n",
              "      <td>6.52</td>\n",
              "      <td>yes</td>\n",
              "      <td>English</td>\n",
              "    </tr>\n",
              "    <tr>\n",
              "      <th>97</th>\n",
              "      <td>546472</td>\n",
              "      <td>treatment</td>\n",
              "      <td>new</td>\n",
              "      <td>7.07</td>\n",
              "      <td>yes</td>\n",
              "      <td>Spanish</td>\n",
              "    </tr>\n",
              "    <tr>\n",
              "      <th>98</th>\n",
              "      <td>546481</td>\n",
              "      <td>treatment</td>\n",
              "      <td>new</td>\n",
              "      <td>6.20</td>\n",
              "      <td>yes</td>\n",
              "      <td>Spanish</td>\n",
              "    </tr>\n",
              "    <tr>\n",
              "      <th>99</th>\n",
              "      <td>546483</td>\n",
              "      <td>treatment</td>\n",
              "      <td>new</td>\n",
              "      <td>5.86</td>\n",
              "      <td>yes</td>\n",
              "      <td>English</td>\n",
              "    </tr>\n",
              "  </tbody>\n",
              "</table>\n",
              "</div>"
            ],
            "text/plain": [
              "    user_id      group landing_page  time_spent_on_the_page converted  \\\n",
              "95   546446  treatment          new                    5.15        no   \n",
              "96   546544    control          old                    6.52       yes   \n",
              "97   546472  treatment          new                    7.07       yes   \n",
              "98   546481  treatment          new                    6.20       yes   \n",
              "99   546483  treatment          new                    5.86       yes   \n",
              "\n",
              "   language_preferred  \n",
              "95            Spanish  \n",
              "96            English  \n",
              "97            Spanish  \n",
              "98            Spanish  \n",
              "99            English  "
            ]
          },
          "execution_count": 4,
          "metadata": {},
          "output_type": "execute_result"
        }
      ],
      "source": [
        "#To view the last five rows of the Dataset\n",
        "df.tail()"
      ]
    },
    {
      "cell_type": "code",
      "execution_count": null,
      "id": "d5bd5276",
      "metadata": {
        "id": "d5bd5276",
        "outputId": "35a23d31-ee9e-4c1d-8943-763d5436dcbe"
      },
      "outputs": [
        {
          "name": "stdout",
          "output_type": "stream",
          "text": [
            "There are 100 rows and 6 columns in the Dataset.\n"
          ]
        }
      ],
      "source": [
        "#To check the shape of the Dataset\n",
        "df.shape\n",
        "print('There are',df.shape[0],'rows and',df.shape[1],'columns in the Dataset.')"
      ]
    },
    {
      "cell_type": "code",
      "execution_count": null,
      "id": "f54a1ffa",
      "metadata": {
        "id": "f54a1ffa",
        "outputId": "c1f47f49-0668-4b3b-d2f1-4d8f4e9312c7"
      },
      "outputs": [
        {
          "name": "stdout",
          "output_type": "stream",
          "text": [
            "<class 'pandas.core.frame.DataFrame'>\n",
            "RangeIndex: 100 entries, 0 to 99\n",
            "Data columns (total 6 columns):\n",
            " #   Column                  Non-Null Count  Dtype  \n",
            "---  ------                  --------------  -----  \n",
            " 0   user_id                 100 non-null    int64  \n",
            " 1   group                   100 non-null    object \n",
            " 2   landing_page            100 non-null    object \n",
            " 3   time_spent_on_the_page  100 non-null    float64\n",
            " 4   converted               100 non-null    object \n",
            " 5   language_preferred      100 non-null    object \n",
            "dtypes: float64(1), int64(1), object(4)\n",
            "memory usage: 4.8+ KB\n"
          ]
        }
      ],
      "source": [
        "df.info()"
      ]
    },
    {
      "cell_type": "markdown",
      "source": [
        "There are 4 object type variables and 2 numerical (1 float and 1 interger) data type varibales in the Dataset."
      ],
      "metadata": {
        "id": "ZbGSO9cxr2o-"
      },
      "id": "ZbGSO9cxr2o-"
    },
    {
      "cell_type": "code",
      "execution_count": null,
      "id": "672a846f",
      "metadata": {
        "id": "672a846f",
        "outputId": "2e4c9116-b82d-4eec-b8ce-48a1c57e64e0"
      },
      "outputs": [
        {
          "data": {
            "text/html": [
              "<div>\n",
              "<style scoped>\n",
              "    .dataframe tbody tr th:only-of-type {\n",
              "        vertical-align: middle;\n",
              "    }\n",
              "\n",
              "    .dataframe tbody tr th {\n",
              "        vertical-align: top;\n",
              "    }\n",
              "\n",
              "    .dataframe thead th {\n",
              "        text-align: right;\n",
              "    }\n",
              "</style>\n",
              "<table border=\"1\" class=\"dataframe\">\n",
              "  <thead>\n",
              "    <tr style=\"text-align: right;\">\n",
              "      <th></th>\n",
              "      <th>count</th>\n",
              "      <th>unique</th>\n",
              "      <th>top</th>\n",
              "      <th>freq</th>\n",
              "      <th>mean</th>\n",
              "      <th>std</th>\n",
              "      <th>min</th>\n",
              "      <th>25%</th>\n",
              "      <th>50%</th>\n",
              "      <th>75%</th>\n",
              "      <th>max</th>\n",
              "    </tr>\n",
              "  </thead>\n",
              "  <tbody>\n",
              "    <tr>\n",
              "      <th>user_id</th>\n",
              "      <td>100.0</td>\n",
              "      <td>NaN</td>\n",
              "      <td>NaN</td>\n",
              "      <td>NaN</td>\n",
              "      <td>546517.0</td>\n",
              "      <td>52.295779</td>\n",
              "      <td>546443.0</td>\n",
              "      <td>546467.75</td>\n",
              "      <td>546492.5</td>\n",
              "      <td>546567.25</td>\n",
              "      <td>546592.0</td>\n",
              "    </tr>\n",
              "    <tr>\n",
              "      <th>group</th>\n",
              "      <td>100</td>\n",
              "      <td>2</td>\n",
              "      <td>control</td>\n",
              "      <td>50</td>\n",
              "      <td>NaN</td>\n",
              "      <td>NaN</td>\n",
              "      <td>NaN</td>\n",
              "      <td>NaN</td>\n",
              "      <td>NaN</td>\n",
              "      <td>NaN</td>\n",
              "      <td>NaN</td>\n",
              "    </tr>\n",
              "    <tr>\n",
              "      <th>landing_page</th>\n",
              "      <td>100</td>\n",
              "      <td>2</td>\n",
              "      <td>old</td>\n",
              "      <td>50</td>\n",
              "      <td>NaN</td>\n",
              "      <td>NaN</td>\n",
              "      <td>NaN</td>\n",
              "      <td>NaN</td>\n",
              "      <td>NaN</td>\n",
              "      <td>NaN</td>\n",
              "      <td>NaN</td>\n",
              "    </tr>\n",
              "    <tr>\n",
              "      <th>time_spent_on_the_page</th>\n",
              "      <td>100.0</td>\n",
              "      <td>NaN</td>\n",
              "      <td>NaN</td>\n",
              "      <td>NaN</td>\n",
              "      <td>5.3778</td>\n",
              "      <td>2.378166</td>\n",
              "      <td>0.19</td>\n",
              "      <td>3.88</td>\n",
              "      <td>5.415</td>\n",
              "      <td>7.0225</td>\n",
              "      <td>10.71</td>\n",
              "    </tr>\n",
              "    <tr>\n",
              "      <th>converted</th>\n",
              "      <td>100</td>\n",
              "      <td>2</td>\n",
              "      <td>yes</td>\n",
              "      <td>54</td>\n",
              "      <td>NaN</td>\n",
              "      <td>NaN</td>\n",
              "      <td>NaN</td>\n",
              "      <td>NaN</td>\n",
              "      <td>NaN</td>\n",
              "      <td>NaN</td>\n",
              "      <td>NaN</td>\n",
              "    </tr>\n",
              "    <tr>\n",
              "      <th>language_preferred</th>\n",
              "      <td>100</td>\n",
              "      <td>3</td>\n",
              "      <td>Spanish</td>\n",
              "      <td>34</td>\n",
              "      <td>NaN</td>\n",
              "      <td>NaN</td>\n",
              "      <td>NaN</td>\n",
              "      <td>NaN</td>\n",
              "      <td>NaN</td>\n",
              "      <td>NaN</td>\n",
              "      <td>NaN</td>\n",
              "    </tr>\n",
              "  </tbody>\n",
              "</table>\n",
              "</div>"
            ],
            "text/plain": [
              "                        count unique      top freq      mean        std  \\\n",
              "user_id                 100.0    NaN      NaN  NaN  546517.0  52.295779   \n",
              "group                     100      2  control   50       NaN        NaN   \n",
              "landing_page              100      2      old   50       NaN        NaN   \n",
              "time_spent_on_the_page  100.0    NaN      NaN  NaN    5.3778   2.378166   \n",
              "converted                 100      2      yes   54       NaN        NaN   \n",
              "language_preferred        100      3  Spanish   34       NaN        NaN   \n",
              "\n",
              "                             min        25%       50%        75%       max  \n",
              "user_id                 546443.0  546467.75  546492.5  546567.25  546592.0  \n",
              "group                        NaN        NaN       NaN        NaN       NaN  \n",
              "landing_page                 NaN        NaN       NaN        NaN       NaN  \n",
              "time_spent_on_the_page      0.19       3.88     5.415     7.0225     10.71  \n",
              "converted                    NaN        NaN       NaN        NaN       NaN  \n",
              "language_preferred           NaN        NaN       NaN        NaN       NaN  "
            ]
          },
          "execution_count": 7,
          "metadata": {},
          "output_type": "execute_result"
        }
      ],
      "source": [
        "#To infer satistical summary for all the variables from the Dataset\n",
        "df.describe(include='all').T"
      ]
    },
    {
      "cell_type": "markdown",
      "source": [
        "1. group: exactly half of the users belong to the first group (control) and the other half belong to the second group (treatment)\n",
        "landing_page: exactly half of the landing pages are new and the other half are old.\n",
        "2. time_spent_on_the_page: Average time spent on the pages by the users are 5.3778 minutes with the maximum time spent on the pages are 10.71 minutes. The standard deviation is 2.37 minutes\n",
        "converted: There are 54 users, out of 100, that got converted to a subscriber of the news portal\n",
        "3. language_preferred:There are 3 languages (Spanish, French and English) in total chosen by the user to view the landing pages with the most preferred language being Spanish and French.\n"
      ],
      "metadata": {
        "id": "k1MzECB9r-cG"
      },
      "id": "k1MzECB9r-cG"
    },
    {
      "cell_type": "code",
      "execution_count": null,
      "id": "483b47a4",
      "metadata": {
        "id": "483b47a4",
        "outputId": "5ddc3e63-f9f5-409f-b3a6-ca7c34fa75f5"
      },
      "outputs": [
        {
          "data": {
            "text/plain": [
              "user_id                   0\n",
              "group                     0\n",
              "landing_page              0\n",
              "time_spent_on_the_page    0\n",
              "converted                 0\n",
              "language_preferred        0\n",
              "dtype: int64"
            ]
          },
          "execution_count": 8,
          "metadata": {},
          "output_type": "execute_result"
        }
      ],
      "source": [
        "#To check for missing values in the Dataset\n",
        "df.isnull().sum()"
      ]
    },
    {
      "cell_type": "markdown",
      "source": [
        "There are no missing values in the given Dataset."
      ],
      "metadata": {
        "id": "kfyaYllRsL9h"
      },
      "id": "kfyaYllRsL9h"
    },
    {
      "cell_type": "code",
      "execution_count": null,
      "id": "3c3cb7ea",
      "metadata": {
        "id": "3c3cb7ea",
        "outputId": "17811701-bc6d-44c2-ca35-c1d11d0e3a19"
      },
      "outputs": [
        {
          "data": {
            "text/plain": [
              "0"
            ]
          },
          "execution_count": 9,
          "metadata": {},
          "output_type": "execute_result"
        }
      ],
      "source": [
        "#To check for duplicate values in the Dataset\n",
        "df.duplicated().sum()"
      ]
    },
    {
      "cell_type": "markdown",
      "source": [
        "There are no duplicated values in the given Dataset."
      ],
      "metadata": {
        "id": "M1QQHRgCsSt6"
      },
      "id": "M1QQHRgCsSt6"
    },
    {
      "cell_type": "markdown",
      "id": "68f3b2c9",
      "metadata": {
        "id": "68f3b2c9"
      },
      "source": [
        "### Univariate Analysis"
      ]
    },
    {
      "cell_type": "code",
      "execution_count": null,
      "id": "1932d0f3",
      "metadata": {
        "id": "1932d0f3",
        "outputId": "e793efea-2480-4a4f-99b7-47e5a9150d8d"
      },
      "outputs": [
        {
          "data": {
            "image/png": "[encoded data removed]",
            "text/plain": [
              "<Figure size 700x500 with 1 Axes>"
            ]
          },
          "metadata": {},
          "output_type": "display_data"
        }
      ],
      "source": [
        "#1 Group\n",
        "plt.figure(figsize=(7,5))\n",
        "sns.countplot(data=df,x='group')\n",
        "plt.show()"
      ]
    },
    {
      "cell_type": "markdown",
      "source": [
        "It can be observed from the graph above that equal number [50 out of 100] of users belong to each group [control and treatment]."
      ],
      "metadata": {
        "id": "9VsOZIAqwJ4c"
      },
      "id": "9VsOZIAqwJ4c"
    },
    {
      "cell_type": "code",
      "execution_count": null,
      "id": "62ad63c8",
      "metadata": {
        "id": "62ad63c8",
        "outputId": "a42ce26d-32ba-4bd6-aca0-3418fdfbdd4f"
      },
      "outputs": [
        {
          "data": {
            "image/png": "[encoded data removed]",
            "text/plain": [
              "<Figure size 700x500 with 1 Axes>"
            ]
          },
          "metadata": {},
          "output_type": "display_data"
        }
      ],
      "source": [
        "#2 Landing Page\n",
        "plt.figure(figsize=(7,5))\n",
        "sns.countplot(data=df,x='landing_page')\n",
        "plt.show()"
      ]
    },
    {
      "cell_type": "markdown",
      "source": [
        "It can be observed from the graph above that exactly half, 50 out of 100, landing pages are new and the other half is old."
      ],
      "metadata": {
        "id": "_xPfiJ-0wHOd"
      },
      "id": "_xPfiJ-0wHOd"
    },
    {
      "cell_type": "code",
      "execution_count": null,
      "id": "bc8396d6",
      "metadata": {
        "id": "bc8396d6",
        "outputId": "cc3e7912-be63-4298-b10b-b4b0c18a4173"
      },
      "outputs": [
        {
          "data": {
            "image/png": "[encoded data removed]",
            "text/plain": [
              "<Figure size 700x500 with 1 Axes>"
            ]
          },
          "metadata": {},
          "output_type": "display_data"
        },
        {
          "data": {
            "image/png": "[encoded data removed]",
            "text/plain": [
              "<Figure size 640x480 with 1 Axes>"
            ]
          },
          "metadata": {},
          "output_type": "display_data"
        }
      ],
      "source": [
        "#3 Time spent on the page\n",
        "plt.figure(figsize=(7,5))\n",
        "sns.histplot(data=df,x='time_spent_on_the_page')\n",
        "plt.show()\n",
        "sns.boxplot(data=df,x='time_spent_on_the_page')\n",
        "plt.show()"
      ]
    },
    {
      "cell_type": "markdown",
      "source": [
        "The most time being spent by the user on the landing pages are 23 minutes (approx.) while the average time spent is approximately 5.7 minutes."
      ],
      "metadata": {
        "id": "7UFKOAI4wEUz"
      },
      "id": "7UFKOAI4wEUz"
    },
    {
      "cell_type": "code",
      "execution_count": null,
      "id": "87139089",
      "metadata": {
        "id": "87139089",
        "outputId": "07d9d570-ad29-4583-b73e-ea31b08227d9"
      },
      "outputs": [
        {
          "data": {
            "image/png": "[encoded data removed]",
            "text/plain": [
              "<Figure size 700x500 with 1 Axes>"
            ]
          },
          "metadata": {},
          "output_type": "display_data"
        }
      ],
      "source": [
        "#4 Converted\n",
        "plt.figure(figsize=(7,5))\n",
        "sns.countplot(data=df,x='converted')\n",
        "plt.show()"
      ]
    },
    {
      "cell_type": "markdown",
      "source": [
        "It can be oberved from the graph that the number of user that get to converted to a susbcriber of the news portal are approx. 56 in number"
      ],
      "metadata": {
        "id": "1sfloL32v64r"
      },
      "id": "1sfloL32v64r"
    },
    {
      "cell_type": "code",
      "execution_count": null,
      "id": "afd761ab",
      "metadata": {
        "id": "afd761ab",
        "outputId": "ff0fc216-5b9c-4eeb-fab5-16b22a53c87d"
      },
      "outputs": [
        {
          "data": {
            "image/png": "[encoded data removed]",
            "text/plain": [
              "<Figure size 700x500 with 1 Axes>"
            ]
          },
          "metadata": {},
          "output_type": "display_data"
        }
      ],
      "source": [
        "#5 Languages Preferred\n",
        "plt.figure(figsize=(7,5))\n",
        "sns.countplot(data=df,x='language_preferred')\n",
        "plt.show()"
      ]
    },
    {
      "cell_type": "markdown",
      "source": [
        "The languages preferred most by the users to view the landing pages are Spanish and French (each being 34 in number)"
      ],
      "metadata": {
        "id": "ddpXAf19vTtU"
      },
      "id": "ddpXAf19vTtU"
    },
    {
      "cell_type": "markdown",
      "id": "fad2de2f",
      "metadata": {
        "id": "fad2de2f"
      },
      "source": [
        "### Bivariate Analysis"
      ]
    },
    {
      "cell_type": "code",
      "execution_count": null,
      "id": "58e9a1d0",
      "metadata": {
        "id": "58e9a1d0",
        "outputId": "403a85d4-5648-4666-f91b-b70afa5532c4"
      },
      "outputs": [
        {
          "data": {
            "image/png": "[encoded data removed]",
            "text/plain": [
              "<Figure size 700x500 with 1 Axes>"
            ]
          },
          "metadata": {},
          "output_type": "display_data"
        },
        {
          "data": {
            "image/png": "[encoded data removed]",
            "text/plain": [
              "<Figure size 700x500 with 1 Axes>"
            ]
          },
          "metadata": {},
          "output_type": "display_data"
        }
      ],
      "source": [
        "#1 Landing Page v/s Time Spent on the Page\n",
        "plt.figure(figsize=(7,5))\n",
        "sns.scatterplot(data=df,x='landing_page',y='time_spent_on_the_page')\n",
        "plt.xticks(rotation = 90)\n",
        "plt.show()\n",
        "\n",
        "plt.figure(figsize=(7,5))\n",
        "sns.boxplot(data=df,x='landing_page',y='time_spent_on_the_page')\n",
        "plt.xticks(rotation = 90)\n",
        "plt.show()"
      ]
    },
    {
      "cell_type": "markdown",
      "source": [
        "1. It can be observed from the graphs plotted above that the average time spent by users reading old landing pages are approx.4.4 minutes and reading new landing new pages are 6 minutes.\n",
        "2. It can also be observed that there are outliers in the boxplot between new landing pages and time spent by users reading new landing pages.This indicates that some users take over 10 minutes to read than the average 6 minutes and a few users take less than 2 minutes on the landing pages."
      ],
      "metadata": {
        "id": "nxD1F4gwsZdJ"
      },
      "id": "nxD1F4gwsZdJ"
    },
    {
      "cell_type": "code",
      "execution_count": null,
      "id": "17dc9481",
      "metadata": {
        "id": "17dc9481",
        "outputId": "b338d12e-f583-4ba8-a588-9f83b8567d1e"
      },
      "outputs": [
        {
          "data": {
            "image/png": "[encoded data removed]",
            "text/plain": [
              "<Figure size 700x500 with 1 Axes>"
            ]
          },
          "metadata": {},
          "output_type": "display_data"
        },
        {
          "data": {
            "image/png": "[encoded data removed]",
            "text/plain": [
              "<Figure size 700x500 with 1 Axes>"
            ]
          },
          "metadata": {},
          "output_type": "display_data"
        }
      ],
      "source": [
        "#2 Conversion v/s Time spent on the page\n",
        "plt.figure(figsize=(7,5))\n",
        "sns.scatterplot(data=df,x='converted',y='time_spent_on_the_page')\n",
        "plt.xticks(rotation = 90)\n",
        "plt.show()\n",
        "\n",
        "plt.figure(figsize=(7,5))\n",
        "sns.boxplot(data=df,x='converted',y='time_spent_on_the_page')\n",
        "plt.xticks(rotation = 90)\n",
        "plt.show()"
      ]
    },
    {
      "cell_type": "markdown",
      "source": [
        "1. It can be observed from the graphs that the users that did not get converted to a subscriber of the news portal spends about 4 minutes (on an average) on the landing pages\n",
        "2. The users that got converted spend about 6.5 minutes on the landing pages on an average.\n",
        "3. The boxplot between the users that did not get converted and time spent on the page by them is skewed to the right.\n",
        "4. There are outliers present in both the boxplots."
      ],
      "metadata": {
        "id": "u83prqrwshjl"
      },
      "id": "u83prqrwshjl"
    },
    {
      "cell_type": "code",
      "execution_count": null,
      "id": "21f9bbd3",
      "metadata": {
        "id": "21f9bbd3",
        "outputId": "37f27c54-2f3e-481d-b64b-920d2df8b9c2"
      },
      "outputs": [
        {
          "data": {
            "image/png": "[encoded data removed]",
            "text/plain": [
              "<Figure size 700x500 with 1 Axes>"
            ]
          },
          "metadata": {},
          "output_type": "display_data"
        },
        {
          "data": {
            "image/png": "[encoded data removed]",
            "text/plain": [
              "<Figure size 700x500 with 1 Axes>"
            ]
          },
          "metadata": {},
          "output_type": "display_data"
        }
      ],
      "source": [
        "#3 Language Prefrred v/s Time spent on the page\n",
        "plt.figure(figsize=(7,5))\n",
        "sns.scatterplot(data=df,x='language_preferred',y='time_spent_on_the_page')\n",
        "plt.xticks(rotation = 90)\n",
        "plt.show()\n",
        "\n",
        "plt.figure(figsize=(7,5))\n",
        "sns.boxplot(data=df,x='language_preferred',y='time_spent_on_the_page')\n",
        "plt.xticks(rotation = 90)\n",
        "plt.show()"
      ]
    },
    {
      "cell_type": "markdown",
      "source": [
        "1. All the three boxplots are moderately skewed with the average amount of time being spent by users speaking Spanish, English and French are about 5.7 minutes.\n",
        "2. The maximum amount of time, about 11 minutes by users preferring French to view the landing pages.\n",
        "3. The minimum amount of time about just 1 minute by users preferring English to view the landing pages."
      ],
      "metadata": {
        "id": "fTnNE5ISsuiW"
      },
      "id": "fTnNE5ISsuiW"
    },
    {
      "cell_type": "markdown",
      "id": "27906576",
      "metadata": {
        "id": "27906576"
      },
      "source": [
        "## 1. Do the users spend more time on the new landing page than the existing landing page?"
      ]
    },
    {
      "cell_type": "markdown",
      "id": "e5fdf0c8",
      "metadata": {
        "id": "e5fdf0c8"
      },
      "source": [
        "### Perform Visual Analysis"
      ]
    },
    {
      "cell_type": "code",
      "execution_count": null,
      "id": "6eZJa41eg21n",
      "metadata": {
        "id": "6eZJa41eg21n",
        "outputId": "34a6b532-8a53-4e3e-c542-352b5c5a62de"
      },
      "outputs": [
        {
          "data": {
            "image/png": "[encoded data removed]",
            "text/plain": [
              "<Figure size 700x500 with 1 Axes>"
            ]
          },
          "metadata": {},
          "output_type": "display_data"
        }
      ],
      "source": [
        "plt.figure(figsize=(7,5))\n",
        "sns.boxplot(data=df,x='landing_page',y='time_spent_on_the_page')\n",
        "plt.xticks(rotation = 90)\n",
        "plt.show()"
      ]
    },
    {
      "cell_type": "markdown",
      "id": "56b3dafd",
      "metadata": {
        "id": "56b3dafd"
      },
      "source": [
        "### Step 1: Define the null and alternate hypotheses"
      ]
    },
    {
      "cell_type": "markdown",
      "id": "d2ac77ef",
      "metadata": {
        "id": "d2ac77ef"
      },
      "source": [
        "Let μ be the amount of time users spend on landing pages\n",
        "Let μ1 be the amount of time users spend on new landing pages and μ2 be the amount of time users spend on existing landing pages\n",
        "\n",
        "Therefore,\n",
        "Null Hypothesis, N0: μ1 = μ2\n",
        "Alternate Hypothesis, Na: μ1 > μ2"
      ]
    },
    {
      "cell_type": "markdown",
      "id": "c7ee4907",
      "metadata": {
        "id": "c7ee4907"
      },
      "source": [
        "### Step 2: Select Appropriate test"
      ]
    },
    {
      "cell_type": "markdown",
      "id": "2c183cd7",
      "metadata": {
        "id": "2c183cd7"
      },
      "source": [
        "Since the given scenario is one-tail test comparing two population means from two independent populations, while the standard deviations are unkown. Therefore, Two Independent Sample t-test can be selected to determine wether the users prefer to spend more time on new landing pages rather than the existing ones."
      ]
    },
    {
      "cell_type": "markdown",
      "id": "3f58c9a7",
      "metadata": {
        "id": "3f58c9a7"
      },
      "source": [
        "### Step 3: Decide the significance level"
      ]
    },
    {
      "cell_type": "markdown",
      "id": "92d7d7ee",
      "metadata": {
        "id": "92d7d7ee"
      },
      "source": [
        "The significance level can be assumed to be 5% (0.05)"
      ]
    },
    {
      "cell_type": "markdown",
      "id": "5fed2eac",
      "metadata": {
        "id": "5fed2eac"
      },
      "source": [
        "### Step 4: Collect and prepare data"
      ]
    },
    {
      "cell_type": "code",
      "execution_count": null,
      "id": "f5a59495",
      "metadata": {
        "id": "f5a59495",
        "outputId": "86175912-3180-44cc-fe09-dedf657f4216"
      },
      "outputs": [
        {
          "name": "stdout",
          "output_type": "stream",
          "text": [
            "The mean time time spent by users on the new landing pages is 6\n",
            "The amount of time spent by the users on the new landing pages is 1.82\n",
            "The mean time time spent by users on the old landing pages is 5\n",
            "The amount of time spent by the users on the old landing pages is 2.58\n"
          ]
        }
      ],
      "source": [
        "time_spent_on_new_landing_page = df[df['landing_page']=='new']['time_spent_on_the_page']\n",
        "print('The mean time time spent by users on the new landing pages is '+ str(round(time_spent_on_new_landing_page.mean())))\n",
        "print('The amount of time spent by the users on the new landing pages is '+ str(round(time_spent_on_new_landing_page.std(),2)))\n",
        "\n",
        "time_spent_on_old_landing_page = df[df['landing_page']=='old']['time_spent_on_the_page']\n",
        "print('The mean time time spent by users on the old landing pages is '+ str(round(time_spent_on_old_landing_page.mean())))\n",
        "print('The amount of time spent by the users on the old landing pages is '+ str(round(time_spent_on_old_landing_page.std(),2)))"
      ]
    },
    {
      "cell_type": "markdown",
      "id": "f5c5258d",
      "metadata": {
        "id": "f5c5258d"
      },
      "source": [
        "### Step 5: Calculate the p-value"
      ]
    },
    {
      "cell_type": "code",
      "execution_count": null,
      "id": "fac8594a",
      "metadata": {
        "id": "fac8594a",
        "outputId": "b03b5ac8-2f8b-4db8-fc6a-ded921586ca3"
      },
      "outputs": [
        {
          "name": "stdout",
          "output_type": "stream",
          "text": [
            "The p-value calculated is  0.0001392381225166549\n"
          ]
        }
      ],
      "source": [
        "from scipy.stats import ttest_ind\n",
        "\n",
        "test_stat, p_value = ttest_ind(time_spent_on_new_landing_page, time_spent_on_old_landing_page, equal_var = False, alternative = 'greater')\n",
        "print('The p-value calculated is ', p_value)"
      ]
    },
    {
      "cell_type": "markdown",
      "id": "359b12f8",
      "metadata": {
        "id": "359b12f8"
      },
      "source": [
        "### Step 6: Compare the p-value with $\\alpha$"
      ]
    },
    {
      "cell_type": "code",
      "execution_count": null,
      "id": "7be47289",
      "metadata": {
        "id": "7be47289",
        "outputId": "2322f2ea-7ec5-4123-d4d3-75c5756c0467"
      },
      "outputs": [
        {
          "name": "stdout",
          "output_type": "stream",
          "text": [
            "As the p-value calculated is less than the significance level, we reject the null hypothesis.\n"
          ]
        }
      ],
      "source": [
        "if p_value < 0.05:\n",
        "    print('As the p-value calculated is less than the significance level, we reject the null hypothesis.')\n",
        "else:\n",
        "    print('As the p-value calculated is greater than the significance level, we fail to reject the null hypothesis.')"
      ]
    },
    {
      "cell_type": "markdown",
      "id": "d9affc84",
      "metadata": {
        "id": "d9affc84"
      },
      "source": [
        "### Step 7:  Draw inference"
      ]
    },
    {
      "cell_type": "markdown",
      "id": "6b16dd4b",
      "metadata": {
        "id": "6b16dd4b"
      },
      "source": [
        "The p_value calculated for the given scenario is 0.0001392 which is less than the level of significance level, hence, Null Hypothesis can be rejected. Therefore, we can conclude that there is enough evidence to determine wether the users spend more time on the landing page rather than the existing ones."
      ]
    },
    {
      "cell_type": "markdown",
      "id": "1ad0823a",
      "metadata": {
        "id": "1ad0823a"
      },
      "source": [
        "**A similar approach can be followed to answer the other questions.**"
      ]
    },
    {
      "cell_type": "markdown",
      "id": "353e9d24",
      "metadata": {
        "id": "353e9d24"
      },
      "source": [
        "## 2. Is the conversion rate (the proportion of users who visit the landing page and get converted) for the new page greater than the conversion rate for the old page?"
      ]
    },
    {
      "cell_type": "code",
      "execution_count": null,
      "id": "b7f52898",
      "metadata": {
        "id": "b7f52898",
        "outputId": "2077e3fb-2339-419c-ea32-4f3e5b1ac980"
      },
      "outputs": [
        {
          "data": {
            "image/png": "[encoded data removed]",
            "text/plain": [
              "<Figure size 640x480 with 1 Axes>"
            ]
          },
          "metadata": {},
          "output_type": "display_data"
        }
      ],
      "source": [
        "pd.crosstab(df['landing_page'],df['converted'],normalize='index').plot(kind=\"bar\", stacked=True)\n",
        "plt.legend()\n",
        "plt.show()"
      ]
    },
    {
      "cell_type": "markdown",
      "source": [
        "Let μ be the proportion of users that visit the landing page and get converted.\n",
        "\n",
        "Let μ1 be the conversion rate for the new page and μ2 be conversion rate for the old page.\n",
        "\n",
        "Therefore,\n",
        "Null Hypothesis, N0: μ1 = μ2\n",
        "\n",
        "Alternate Hypothesis, Na: μ1 > μ2"
      ],
      "metadata": {
        "id": "jyfLdw0Hs3aY"
      },
      "id": "jyfLdw0Hs3aY"
    },
    {
      "cell_type": "markdown",
      "source": [
        "The significance level can be assumed to be 5% (0.05)"
      ],
      "metadata": {
        "id": "i3qzoMzrtQfg"
      },
      "id": "i3qzoMzrtQfg"
    },
    {
      "cell_type": "markdown",
      "source": [
        "The given scenario is a one-tail test requiring to compare two population proportions from two independent populations.\n",
        "\n",
        "Two Sample z-test would be the apropriate test to use for determining wether old or new page has greater conversion rates."
      ],
      "metadata": {
        "id": "mMMsMOXCtTXL"
      },
      "id": "mMMsMOXCtTXL"
    },
    {
      "cell_type": "code",
      "execution_count": null,
      "id": "76e5b64b",
      "metadata": {
        "id": "76e5b64b",
        "outputId": "62636cda-849c-448d-fe8b-c2f1f8d19a70"
      },
      "outputs": [
        {
          "name": "stdout",
          "output_type": "stream",
          "text": [
            "The number of users that got converted to the control group are  21\n",
            "The total number of users that belong to the control group are  50\n",
            "The number of users that got converted to the control group are  21\n",
            "The total number of users that belong to the treatment group are  50\n"
          ]
        }
      ],
      "source": [
        "control_converted = df[df['group'] == 'control']['converted'].value_counts()['yes']\n",
        "print('The number of users that got converted to the control group are ',control_converted)\n",
        "\n",
        "control_group = df.group.value_counts()['control']\n",
        "print('The total number of users that belong to the control group are ',control_group)\n",
        "\n",
        "treatment_converted = df[df['group'] == 'treatment']['converted'].value_counts()['yes']\n",
        "print('The number of users that got converted to the control group are ',control_converted)\n",
        "\n",
        "treatment_group = df.group.value_counts()['treatment']\n",
        "print('The total number of users that belong to the treatment group are ',treatment_group)"
      ]
    },
    {
      "cell_type": "code",
      "execution_count": null,
      "id": "d9c97aaf",
      "metadata": {
        "id": "d9c97aaf",
        "outputId": "866d4170-bc46-4f0d-9349-be44f09ed068"
      },
      "outputs": [
        {
          "name": "stdout",
          "output_type": "stream",
          "text": [
            "The p-value calculated is 0.016052616408112556\n"
          ]
        }
      ],
      "source": [
        "from statsmodels.stats.proportion import proportions_ztest\n",
        "\n",
        "test_stat, p_value = proportions_ztest([control_converted,treatment_converted],[control_group,treatment_group])\n",
        "print('The p-value calculated is ' + str(p_value))"
      ]
    },
    {
      "cell_type": "code",
      "execution_count": null,
      "id": "08736caa",
      "metadata": {
        "id": "08736caa",
        "outputId": "9992fb7a-8e6a-4c7a-8b2d-5dd07d2d18d2"
      },
      "outputs": [
        {
          "name": "stdout",
          "output_type": "stream",
          "text": [
            "As the p-value calculated is less than the significance level, Null hypothesis can be rejected.\n"
          ]
        }
      ],
      "source": [
        "if p_value < 0.05:\n",
        "    print('As the p-value calculated is less than the significance level, Null hypothesis can be rejected.')\n",
        "else:\n",
        "    print('As the p-value calculated is greater than the significance level, Null hypothesis is failed to be rejected.')"
      ]
    },
    {
      "cell_type": "markdown",
      "source": [
        "The p_value calculated for the given scenario is 0.01605 which is less than the level of significance level, hence, Null Hypothesis can be rejected. Therefore it is indicated that there is strong evidence to support the claim that the conversion rate is higher for new pages rather than the old ones."
      ],
      "metadata": {
        "id": "tVF8ttWdtZ4B"
      },
      "id": "tVF8ttWdtZ4B"
    },
    {
      "cell_type": "markdown",
      "id": "d49bfa2d",
      "metadata": {
        "id": "d49bfa2d"
      },
      "source": [
        "## 3. Is the conversion and preferred language are independent or related?"
      ]
    },
    {
      "cell_type": "code",
      "execution_count": null,
      "id": "b0e63f17",
      "metadata": {
        "id": "b0e63f17",
        "outputId": "100e73d2-3aa4-47c9-8367-4ab571f27798"
      },
      "outputs": [
        {
          "data": {
            "image/png": "[encoded data removed]",
            "text/plain": [
              "<Figure size 640x480 with 1 Axes>"
            ]
          },
          "metadata": {},
          "output_type": "display_data"
        }
      ],
      "source": [
        "pd.crosstab(df['converted'],df['language_preferred'],normalize='index').plot(kind=\"bar\", stacked=True)\n",
        "plt.legend()\n",
        "plt.show()"
      ]
    },
    {
      "cell_type": "markdown",
      "source": [
        "Null Hypothese, N0 = Conversion Rate is independent of the languages preferred.\n",
        "\n",
        "Alternate Hypotheses, Ha = Conversion Rate and the languages preferred are related to one another."
      ],
      "metadata": {
        "id": "LfEh5q2QuJvY"
      },
      "id": "LfEh5q2QuJvY"
    },
    {
      "cell_type": "markdown",
      "source": [
        "Since the scenario requires us to compare categorical variables from a population are independent, Chi-Square Test for Independence would be the apropriate test to be selected."
      ],
      "metadata": {
        "id": "GPiKDNdEuG0x"
      },
      "id": "GPiKDNdEuG0x"
    },
    {
      "cell_type": "markdown",
      "source": [
        "The significance level can be assumed to be 5% (0.05)"
      ],
      "metadata": {
        "id": "Vb1vAPPPuNcL"
      },
      "id": "Vb1vAPPPuNcL"
    },
    {
      "cell_type": "code",
      "execution_count": null,
      "id": "53ff6baf",
      "metadata": {
        "id": "53ff6baf",
        "outputId": "dd7012d9-9f1c-4798-8c94-8c4bc6ec12af"
      },
      "outputs": [
        {
          "data": {
            "text/html": [
              "<div>\n",
              "<style scoped>\n",
              "    .dataframe tbody tr th:only-of-type {\n",
              "        vertical-align: middle;\n",
              "    }\n",
              "\n",
              "    .dataframe tbody tr th {\n",
              "        vertical-align: top;\n",
              "    }\n",
              "\n",
              "    .dataframe thead th {\n",
              "        text-align: right;\n",
              "    }\n",
              "</style>\n",
              "<table border=\"1\" class=\"dataframe\">\n",
              "  <thead>\n",
              "    <tr style=\"text-align: right;\">\n",
              "      <th>language_preferred</th>\n",
              "      <th>English</th>\n",
              "      <th>French</th>\n",
              "      <th>Spanish</th>\n",
              "    </tr>\n",
              "    <tr>\n",
              "      <th>converted</th>\n",
              "      <th></th>\n",
              "      <th></th>\n",
              "      <th></th>\n",
              "    </tr>\n",
              "  </thead>\n",
              "  <tbody>\n",
              "    <tr>\n",
              "      <th>no</th>\n",
              "      <td>11</td>\n",
              "      <td>19</td>\n",
              "      <td>16</td>\n",
              "    </tr>\n",
              "    <tr>\n",
              "      <th>yes</th>\n",
              "      <td>21</td>\n",
              "      <td>15</td>\n",
              "      <td>18</td>\n",
              "    </tr>\n",
              "  </tbody>\n",
              "</table>\n",
              "</div>"
            ],
            "text/plain": [
              "language_preferred  English  French  Spanish\n",
              "converted                                   \n",
              "no                       11      19       16\n",
              "yes                      21      15       18"
            ]
          },
          "execution_count": 29,
          "metadata": {},
          "output_type": "execute_result"
        }
      ],
      "source": [
        "contingency_table = pd.crosstab(df['converted'], df['language_preferred'])\n",
        "contingency_table"
      ]
    },
    {
      "cell_type": "code",
      "execution_count": null,
      "id": "ab967846",
      "metadata": {
        "id": "ab967846",
        "outputId": "6b43051c-3a37-43ca-c907-6c9876495b85"
      },
      "outputs": [
        {
          "name": "stdout",
          "output_type": "stream",
          "text": [
            "The p-value calculated is 0.21298887487543447\n"
          ]
        }
      ],
      "source": [
        "from scipy.stats import chi2_contingency\n",
        "\n",
        "chi2, p_value, dof, expected = chi2_contingency(contingency_table)\n",
        "print('The p-value calculated is', p_value)"
      ]
    },
    {
      "cell_type": "code",
      "execution_count": null,
      "id": "803827b9",
      "metadata": {
        "id": "803827b9",
        "outputId": "66eb563a-b28f-4399-bfe3-d4952f471d8c"
      },
      "outputs": [
        {
          "name": "stdout",
          "output_type": "stream",
          "text": [
            "As the p-value calculated is greater than the significance level, Null hypothesis is failed to be rejected.\n"
          ]
        }
      ],
      "source": [
        "if p_value < 0.05:\n",
        "    print('As the p-value calculated is less than the significance level, Null hypothesis can be rejected.')\n",
        "else:\n",
        "    print('As the p-value calculated is greater than the significance level, Null hypothesis is failed to be rejected.')"
      ]
    },
    {
      "cell_type": "markdown",
      "source": [
        "The p_value obtained from the the above calculations is 0.212 which is more than the assumed level of significance, hence Null Hypothesis is failed to be rejected. Therefore, it indicates that the there isnt enough satistical evidence to conclude wether conversion rate and the language preferred by the users are independent or not."
      ],
      "metadata": {
        "id": "GpACfhQquTdB"
      },
      "id": "GpACfhQquTdB"
    },
    {
      "cell_type": "markdown",
      "id": "8d585a90",
      "metadata": {
        "id": "8d585a90"
      },
      "source": [
        "## 4. Is the time spent on the new page same for the different language users?"
      ]
    },
    {
      "cell_type": "code",
      "execution_count": null,
      "id": "b422f395",
      "metadata": {
        "id": "b422f395",
        "outputId": "fe71c9bd-fc83-4db0-e3dc-24f00e313fcb"
      },
      "outputs": [
        {
          "data": {
            "image/png": "[encoded data removed]",
            "text/plain": [
              "<Figure size 640x480 with 1 Axes>"
            ]
          },
          "metadata": {},
          "output_type": "display_data"
        }
      ],
      "source": [
        "avodata = df[df['landing_page'] =='new']\n",
        "\n",
        "sns.boxplot(x = 'time_spent_on_the_page', y = 'language_preferred', data = avodata)\n",
        "plt.show()"
      ]
    },
    {
      "cell_type": "markdown",
      "source": [
        "ANOVA Test"
      ],
      "metadata": {
        "id": "EP7RsWG8tpv0"
      },
      "id": "EP7RsWG8tpv0"
    },
    {
      "cell_type": "markdown",
      "source": [
        "The significance level can be assumed to be 5% (0.05)"
      ],
      "metadata": {
        "id": "YSVPuzSetwmJ"
      },
      "id": "YSVPuzSetwmJ"
    },
    {
      "cell_type": "markdown",
      "source": [
        "Null Hypotheses, H0 = Time spent on new page is same across all language users.\n",
        "\n",
        "Alternate Hypothese, Ha = Time spent on new page is different for at least one language"
      ],
      "metadata": {
        "id": "pA0wr9L8tl1Z"
      },
      "id": "pA0wr9L8tl1Z"
    },
    {
      "cell_type": "code",
      "execution_count": null,
      "id": "588f742a",
      "metadata": {
        "id": "588f742a",
        "outputId": "f7193172-8496-4efb-da76-dc7e1ce11ec3"
      },
      "outputs": [
        {
          "name": "stdout",
          "output_type": "stream",
          "text": [
            "language_preferred\n",
            "English    6.663750\n",
            "French     6.196471\n",
            "Spanish    5.835294\n",
            "Name: time_spent_on_the_page, dtype: float64\n"
          ]
        }
      ],
      "source": [
        "print(avodata.groupby(['language_preferred'])['time_spent_on_the_page'].mean())"
      ]
    },
    {
      "cell_type": "code",
      "execution_count": null,
      "id": "6b883917",
      "metadata": {
        "id": "6b883917"
      },
      "outputs": [],
      "source": [
        "language_English = avodata[avodata['language_preferred']==\"English\"]['time_spent_on_the_page']\n",
        "language_Spanish = avodata[avodata['language_preferred']=='Spanish']['time_spent_on_the_page']\n",
        "language_French = avodata[avodata['language_preferred']=='French']['time_spent_on_the_page']"
      ]
    },
    {
      "cell_type": "code",
      "execution_count": null,
      "id": "ee3ac12b",
      "metadata": {
        "id": "ee3ac12b",
        "outputId": "c4a0bfb7-b8c6-405c-874a-2b4521425545"
      },
      "outputs": [
        {
          "name": "stdout",
          "output_type": "stream",
          "text": [
            "The p-value calculated is 0.43204138694325955\n"
          ]
        }
      ],
      "source": [
        "from scipy.stats import f_oneway\n",
        "\n",
        "test_stat, p_value = f_oneway(language_English,language_Spanish,language_French)\n",
        "print('The p-value calculated is ' + str(p_value))"
      ]
    },
    {
      "cell_type": "code",
      "execution_count": null,
      "id": "99768051",
      "metadata": {
        "id": "99768051",
        "outputId": "0c985795-6b43-43ed-dec3-f936a424f9c8"
      },
      "outputs": [
        {
          "name": "stdout",
          "output_type": "stream",
          "text": [
            "As the p-value calculated is greater than the significance level, Null hypothesis is failed to be rejected.\n"
          ]
        }
      ],
      "source": [
        "if p_value < 0.05:\n",
        "    print('As the p-value calculated is less than the significance level, Null hypothesis can be rejected.')\n",
        "else:\n",
        "    print('As the p-value calculated is greater than the significance level, Null hypothesis is failed to be rejected.')"
      ]
    },
    {
      "cell_type": "markdown",
      "source": [
        "The p_value obtained from the the above calculations is 0.432 which is more than the assumed level of significance, hence Null Hypothesis is failed to be rejected. Therefore, it indicates that the there isnt enough satistical evidence to determine if the time spent by each language user spends on a new page id different from one another."
      ],
      "metadata": {
        "id": "DmIQ0KNetgp1"
      },
      "id": "DmIQ0KNetgp1"
    },
    {
      "cell_type": "markdown",
      "id": "3acbc947",
      "metadata": {
        "id": "3acbc947"
      },
      "source": [
        "## Conclusion and Business Recommendations"
      ]
    },
    {
      "cell_type": "markdown",
      "id": "21fb1063",
      "metadata": {
        "id": "21fb1063"
      },
      "source": [
        "Conclusions:\n",
        "1. Out of the 100 users that were randomly selected, exactly half of them were divided equally into both the groups, i.e 50 users belonged to the first group (control) and 50 users belonged to the second group (treatment).\n",
        "2. Similarly, exactly half, out of 100, of the landing pages are new and the other half are old.\n",
        "3. Users generally prefer Spanish, English and French to view the landing pages, with most users chosing Spanish and French (34 respectively in number).\n",
        "4. Most of the users (54 exactly in number) get converted as a subscriber of the news portal.\n",
        "5. Users spend about 5.4 minutes (on an average) to view landing pages with the maximum amount of time being spent by the user is 10.71 minutes in some cases.\n",
        "\n",
        "Business Recommendations:\n",
        "1. More languages can be introduced so that the ENews Express Portal can be expanded to a much wider range of audience, hence garnering more subscribers.\n",
        "2. More innovative modes of engagements can be introduced so that users can spend more time in the portal while consuming content and getting updated.\n",
        "3. Captivating graphics (audio,video,etc.) can be launched so that the users can comprehened complex news stories easily.\n",
        "4. Users can read one news article at the portal for free and then billed at low cost once they decide to subscribe to the news portal.\n",
        "5. The news portal can be swiftly updated from time to time as and when new stories are being updated."
      ]
    },
    {
      "cell_type": "markdown",
      "id": "U0dAd4i0iCHo",
      "metadata": {
        "id": "U0dAd4i0iCHo"
      },
      "source": [
        "___"
      ]
    }
  ],
  "metadata": {
    "colab": {
      "collapsed_sections": [
        "a6a3d218",
        "6970dd99",
        "9d75cfa2",
        "68f3b2c9",
        "fad2de2f",
        "e5fdf0c8",
        "56b3dafd",
        "c7ee4907",
        "3f58c9a7",
        "5fed2eac",
        "f5c5258d",
        "359b12f8",
        "d9affc84",
        "353e9d24",
        "d49bfa2d",
        "8d585a90"
      ],
      "provenance": [],
      "include_colab_link": true
    },
    "kernelspec": {
      "display_name": "Python 3 (ipykernel)",
      "language": "python",
      "name": "python3"
    },
    "language_info": {
      "codemirror_mode": {
        "name": "ipython",
        "version": 3
      },
      "file_extension": ".py",
      "mimetype": "text/x-python",
      "name": "python",
      "nbconvert_exporter": "python",
      "pygments_lexer": "ipython3",
      "version": "3.11.5"
    }
  },
  "nbformat": 4,
  "nbformat_minor": 5
}